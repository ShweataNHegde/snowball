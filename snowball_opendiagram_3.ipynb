{
 "cells": [
  {
   "cell_type": "markdown",
   "source": [
    "## All imports"
   ],
   "metadata": {}
  },
  {
   "cell_type": "code",
   "execution_count": 1,
   "source": [
    "!pip install yake"
   ],
   "outputs": [
    {
     "output_type": "stream",
     "name": "stdout",
     "text": [
      "Requirement already satisfied: yake in c:\\users\\shweata\\appdata\\local\\programs\\python\\python38\\lib\\site-packages (0.4.8)\n",
      "Requirement already satisfied: tabulate in c:\\users\\shweata\\appdata\\local\\programs\\python\\python38\\lib\\site-packages (from yake) (0.8.9)\n",
      "Requirement already satisfied: click>=6.0 in c:\\users\\shweata\\appdata\\local\\programs\\python\\python38\\lib\\site-packages (from yake) (7.1.2)\n",
      "Requirement already satisfied: numpy in c:\\users\\shweata\\appdata\\local\\programs\\python\\python38\\lib\\site-packages (from yake) (1.19.5)\n",
      "Requirement already satisfied: segtok in c:\\users\\shweata\\appdata\\local\\programs\\python\\python38\\lib\\site-packages (from yake) (1.5.10)\n",
      "Requirement already satisfied: networkx in c:\\users\\shweata\\appdata\\local\\programs\\python\\python38\\lib\\site-packages (from yake) (2.5.1)\n",
      "Requirement already satisfied: jellyfish in c:\\users\\shweata\\appdata\\local\\programs\\python\\python38\\lib\\site-packages (from yake) (0.8.2)\n",
      "Requirement already satisfied: decorator<5,>=4.3 in c:\\users\\shweata\\appdata\\local\\programs\\python\\python38\\lib\\site-packages (from networkx->yake) (4.4.2)\n",
      "Requirement already satisfied: regex in c:\\users\\shweata\\appdata\\local\\programs\\python\\python38\\lib\\site-packages (from segtok->yake) (2021.4.4)\n"
     ]
    },
    {
     "output_type": "stream",
     "name": "stderr",
     "text": [
      "WARNING: You are using pip version 21.2.2; however, version 21.2.4 is available.\n",
      "You should consider upgrading via the 'c:\\users\\shweata\\appdata\\local\\programs\\python\\python38\\python.exe -m pip install --upgrade pip' command.\n"
     ]
    }
   ],
   "metadata": {}
  },
  {
   "cell_type": "code",
   "execution_count": 2,
   "source": [
    "import os\n",
    "import glob\n",
    "import xml.etree.ElementTree as ET\n",
    "import pathlib\n",
    "import yake\n",
    "import subprocess\n",
    "import logging\n",
    "from bs4 import BeautifulSoup"
   ],
   "outputs": [],
   "metadata": {}
  },
  {
   "cell_type": "markdown",
   "source": [
    "## Defining all the functions"
   ],
   "metadata": {}
  },
  {
   "cell_type": "code",
   "execution_count": 17,
   "source": [
    "logging.basicConfig(level=logging.INFO)\n",
    "# All the functions\n",
    "def querying_pygetpapers_sectioning(query, hits, output_directory, using_terms = False, terms_txt=None):\n",
    "    \"\"\"queries pygetpapers for specified query. Downloads XML, and sections papers using ami section\n",
    "\n",
    "    Args:\n",
    "        query (str): query to pygetpapers\n",
    "        hits (int): no. of papers to download\n",
    "        output_directory (str): CProject Directory (where papers get downloaded)\n",
    "        using_terms (bool, optional): pygetpapers --terms flag. Defaults to False.\n",
    "        terms_txt (str, optional): path to text file with terms. Defaults to None.\n",
    "    \"\"\"\n",
    "    logging.info('querying pygetpapers')\n",
    "    if using_terms:\n",
    "        subprocess.run(f'pygetpapers -q \"{query}\" -k {hits} -o {output_directory} -x --terms {terms_txt}',\n",
    "                                shell=True)\n",
    "    else:  \n",
    "        subprocess.run(f'pygetpapers -q \"{query}\" -k {hits} -o {output_directory} -x', \n",
    "                                shell=True)\n",
    "    logging.info('running ami section')\n",
    "    subprocess.run(f'ami -p {output_directory} section', shell=True)\n",
    "\n",
    "def parse_xml(output_directory, results_txt, body_section='figure'):\n",
    "    \"\"\"globs the specified section parsed xml and dumps the text to a file\n",
    "\n",
    "    Args:\n",
    "        output_directory (str): CProject directory\n",
    "        results_txt (str):name of text file to write parsed XML\n",
    "        body_section (str, optional): [description]. Defaults to 'method'.\n",
    "    \"\"\"\n",
    "    WORKING_DIRECTORY = os.getcwd()\n",
    "    glob_results = glob.glob(os.path.join(WORKING_DIRECTORY,\n",
    "                                          output_directory,\"*\", \"sections\",\n",
    "                                          \"**\", f\"*{body_section}*.xml\"), recursive = True)\n",
    "    logging.info(f'globbed_xml: {glob_results}')\n",
    "    file1 = open(results_txt,\"w+\", encoding='utf-8')\n",
    "    for result in glob_results:\n",
    "        tree = ET.parse(result)\n",
    "        root = tree.getroot()\n",
    "        xmlstr = ET.tostring(root, encoding='utf8', method='xml')\n",
    "        soup = BeautifulSoup(xmlstr, features='lxml')\n",
    "        text = soup.get_text(separator=\"\")\n",
    "        text = text.replace(\n",
    "            '\\n', '')\n",
    "        print(text, file = file1)\n",
    "    logging.info(f'wrote text to {results_txt}')\n",
    "    \n",
    "def key_phrase_extraction(results_txt, terms_txt):\n",
    "    \"\"\"extract key phrases from the text file with parsed xml and saves the phrases in a text file (comma-separated)\n",
    "\n",
    "    Args:\n",
    "        results_txt (str): text file with parsed XML text\n",
    "        terms_txt (str): name of text file with comma-separated extracted key phrases\n",
    "    \"\"\"\n",
    "    text = pathlib.Path(results_txt).read_text(encoding='utf-8')\n",
    "    custom_kw_extractor = yake.KeywordExtractor(lan='en', n=2, top=50, features=None)\n",
    "    keywords = custom_kw_extractor.extract_keywords(text)\n",
    "    keywords_list = []\n",
    "    for kw in keywords:\n",
    "        keywords_list.append(kw[0])\n",
    "    logging.info('extracted key phrases')\n",
    "    \n",
    "    keywords_list_string = ', '.join(str(i) for i in keywords_list)\n",
    "    with open(terms_txt, 'w', encoding='utf-8') as fo:\n",
    "        fo.write(keywords_list_string)\n",
    "    logging.info(f'wrote the phrases to {terms_txt}')"
   ],
   "outputs": [],
   "metadata": {}
  },
  {
   "cell_type": "markdown",
   "source": [
    "## Defining all variables"
   ],
   "metadata": {}
  },
  {
   "cell_type": "code",
   "execution_count": 8,
   "source": [
    "OD_QUERY = '(cyclic voltammetry) AND batteries'\r\n",
    "OD_HITS = '50'\r\n",
    "OD_OUTPUT='cyclic_voltammetry_20210824_1'\r\n",
    "OD_RESULTS= 'cyclic_volammtery.txt'\r\n",
    "OD_TERMS = 'terms.txt'"
   ],
   "outputs": [],
   "metadata": {}
  },
  {
   "cell_type": "markdown",
   "source": [
    "## 1. Query [`pygetpapers`](https://pypi.org/project/pygetpapers/)\n",
    "`pygetpapers` is a command-line tool which downloads open scientific papers from repositories like EPMC, biorxiv, arxiv, and so on. \n",
    "![image](https://user-images.githubusercontent.com/70576776/130623817-73596788-a3b1-4a35-9332-1d0cf375a7d7.png)\n",
    "In this Demo, we've used `pygetpapers` to download `50` papers in XML-format on `(cyclic voltammetry) AND batteries` from EPMC. \n",
    "## 2. Section papers using [`ami-section`](https://github.com/petermr/ami3)\n",
    "We use `ami`'s sectioning functionality to create smaller sections (like Introduction, Method, Results, Figures, and so on) for each paper. \n",
    "![image](https://user-images.githubusercontent.com/70576776/130624722-aecb3ff3-c26c-490a-92c5-30bb98b25318.png)\n"
   ],
   "metadata": {}
  },
  {
   "cell_type": "code",
   "execution_count": 9,
   "source": [
    "querying_pygetpapers_sectioning(OD_QUERY, OD_HITS, OD_OUTPUT)"
   ],
   "outputs": [
    {
     "output_type": "stream",
     "name": "stderr",
     "text": [
      "INFO:root:querying pygetpapers\n",
      "INFO:root:running ami section\n"
     ]
    }
   ],
   "metadata": {}
  },
  {
   "cell_type": "markdown",
   "source": [
    "`pygetpapers` gives us: \n",
    "![image](https://user-images.githubusercontent.com/70576776/130625542-192e3133-91d7-4b6d-815f-9cc3db924a4f.png)\n",
    "\n",
    "After ami-section: \n",
    "![image](https://user-images.githubusercontent.com/70576776/130625282-407b6f91-7ed6-4735-90e7-6334bd798f97.png)\n"
   ],
   "metadata": {}
  },
  {
   "cell_type": "markdown",
   "source": [
    "## 3. Get text from Figure Caption (or section of your choice)\n",
    "- Sectioning papers makes it easy to select for specific sections like results, methods or Figure Caption, and get the text. \n",
    "\n"
   ],
   "metadata": {}
  },
  {
   "cell_type": "code",
   "execution_count": 13,
   "source": [
    "parse_xml(OD_OUTPUT,OD_RESULTS)"
   ],
   "outputs": [
    {
     "output_type": "stream",
     "name": "stderr",
     "text": [
      "INFO:root:number of XML files globbed: 139\n",
      "INFO:root:wrote text to cyclic_volammtery.txt\n"
     ]
    }
   ],
   "metadata": {}
  },
  {
   "cell_type": "markdown",
   "source": [
    "Globbed files:\r\n",
    "```\r\n",
    "'C:\\\\Users\\\\shweata\\\\snowball\\\\cyclic_voltammetry_20210824_1\\\\PMC7645205\\\\sections\\\\3_floats-group\\\\0_figure_1.xml', 'C:\\\\Users\\\\shweata\\\\snowball\\\\cyclic_voltammetry_20210824_1\\\\PMC7645205\\\\sections\\\\3_floats-group\\\\1_figure_2.xml', 'C:\\\\Users\\\\shweata\\\\snowball\\\\cyclic_voltammetry_20210824_1\\\\PMC7645205\\\\sections\\\\3_floats-group\\\\3_figure_3.xml', 'C:\\\\Users\\\\shweata\\\\snowball\\\\cyclic_voltammetry_20210824_1\\\\PMC7645205\\\\sections\\\\3_floats-group\\\\4_figure_4.xml', 'C:\\\\Users\\\\shweata\\\\snowball\\\\cyclic_voltammetry_20210824_1\\\\PMC7645205\\\\sections\\\\3_floats-group\\\\5_figure_5.xml', 'C:\\\\Users\\\\shweata\\\\snowball\\\\cyclic_voltammetry_20210824_1\\\\PMC7645205\\\\sections\\\\3_floats-group\\\\6_figure_6.xml', 'C:\\\\Users\\\\shweata\\\\snowball\\\\cyclic_voltammetry_20210824_1\\\\PMC7693081\\\\sections\\\\3_floats-group\\\\0_figure_1.xml', 'C:\\\\Users\\\\shweata\\\\snowball\\\\cyclic_voltammetry_20210824_1\\\\PMC7693081\\\\sections\\\\3_floats-group\\\\1_figure_2.xml',... \r\n",
    "```"
   ],
   "metadata": {}
  },
  {
   "cell_type": "markdown",
   "source": [
    "## 4. Extracting Key Phrases from Figure Caption Text using [`YAKE!`](https://pypi.org/project/yake/)\r\n",
    "Finally, we can use any unsupervised Key Phrase Extractor to extracted key phrases from the text-dump from the previous step. We choose to use YAKE. \r\n",
    "\r\n",
    "We, then, write all the key phrases to a text file called `terms.txt`. "
   ],
   "metadata": {}
  },
  {
   "cell_type": "code",
   "execution_count": 14,
   "source": [
    "key_phrase_extraction(OD_RESULTS, OD_TERMS)"
   ],
   "outputs": [
    {
     "output_type": "stream",
     "name": "stderr",
     "text": [
      "INFO:root:extracted key phrases\n",
      "INFO:root:wrote the phrases to terms.txt\n"
     ]
    }
   ],
   "metadata": {}
  },
  {
   "cell_type": "markdown",
   "source": [
    "Here are the Key Phrases extracted using YAKE (copy-pasted from `terms.txt`)\r\n",
    "```\r\n",
    "Figure, KOH, RDC, cyclic voltammetry, electrodes, SiO, electrode, scan rate, PAAK, rate, current, cyclic, American Chemical Society, voltammetry, image, disk electrode, cyclic voltammetry curves, carbon disk electrode, scan, CMC, electrolyte, KOH alkaline polymer, voltage, DMSO, HCE, cells, images, gold electrodes, Chemical Society, American Chemical, discharge, concentration KOH solution, KOH solution, disk, spectra, cell, KOH alkaline, Cyclic voltammograms, cycles, DMC, composite electrodes, working electrode, alkaline polymer electrolyte, profiles, curves, solution, voltammograms, concentration KOH, calendered electrodes, polymer electrolyte membranes\r\n",
    "```"
   ],
   "metadata": {}
  },
  {
   "cell_type": "code",
   "execution_count": 15,
   "source": [
    "OD_OUTPUT_2 = 'cyclic_voltammetry_2'\r\n",
    "OD_RESULTS_2= 'cyclic_volammtery_2.txt'\r\n",
    "OS_CUSTOM_TERMS = os.path.join(os.getcwd(), 'custom_terms_list.txt')"
   ],
   "outputs": [],
   "metadata": {}
  },
  {
   "cell_type": "markdown",
   "source": [
    "## 5. Choose the relevant terms and re-run the query\r\n",
    "We created a custom terms list based on the extracted key phrases and re-run the query. \r\n",
    "Copy-pasted from `custom_terms_list.txt`\r\n",
    "```\r\n",
    "disk electrode, scan rate, calendered electrodes\r\n",
    "```"
   ],
   "metadata": {}
  },
  {
   "cell_type": "code",
   "execution_count": 16,
   "source": [
    "querying_pygetpapers_sectioning(OD_QUERY, OD_HITS, OD_OUTPUT_2, using_terms=True, terms_txt=OS_CUSTOM_TERMS)"
   ],
   "outputs": [
    {
     "output_type": "stream",
     "name": "stderr",
     "text": [
      "INFO:root:querying pygetpapers\n",
      "INFO:root:running ami section\n"
     ]
    }
   ],
   "metadata": {}
  },
  {
   "cell_type": "markdown",
   "source": [
    "## Comparision between 1st and 2nd run\r\n",
    "Inspecting `pygetpapers_log.txt` (which is inside of CProject directory) from both the runs:\r\n",
    "1st run: \r\n",
    "```\r\n",
    "INFO:root:Making log file at cyclic_voltammetry_20210824_1\\pygetpapers_log.txt\r\n",
    "INFO:root:Final query is (cyclic voltammetry) AND batteries\r\n",
    "INFO:root:Total Hits are 3508\r\n",
    "```\r\n",
    "2nd run:\r\n",
    "```\r\n",
    "INFO:root:Making log file at cyclic_voltammetry_2\\pygetpapers_log.txt\r\n",
    "INFO:root:Final query is ((cyclic voltammetry) AND batteries AND (disk electrode OR  scan rate OR  calendered electrodes))\r\n",
    "INFO:root:Total Hits are 359\r\n",
    "```\r\n",
    "We've filtered 1/10th of the papers available on EPMC on `(cyclic voltammetry) AND batteries` (1st run), by\r\n",
    "- downloading a sample of 50 papers, \r\n",
    "- extracting the key phrases,\r\n",
    "-  choosing the relevant phrases from the initial list of phrases\r\n",
    "-  and re-running the query by adding those chosen phrases. "
   ],
   "metadata": {}
  }
 ],
 "metadata": {
  "kernelspec": {
   "name": "python3",
   "display_name": "Python 3.8.10 64-bit"
  },
  "language_info": {
   "codemirror_mode": {
    "name": "ipython",
    "version": 3
   },
   "file_extension": ".py",
   "mimetype": "text/x-python",
   "name": "python",
   "nbconvert_exporter": "python",
   "pygments_lexer": "ipython3",
   "version": "3.8.10"
  },
  "interpreter": {
   "hash": "94ea81ad09bfb72a70a7d086e6fef2ce7d8db80550c49e549050444b3aeae49d"
  }
 },
 "nbformat": 4,
 "nbformat_minor": 5
}